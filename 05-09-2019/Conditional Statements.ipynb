{
 "cells": [
  {
   "cell_type": "markdown",
   "metadata": {},
   "source": [
    "```\n",
    "Sample Program-1:\n",
    "// fixed some value for comparision 25\n",
    "Input-1: 50\n",
    "Output:\n",
    "        50 is greater than 25\n",
    "Input-2: 25\n",
    "Output:\n",
    "        25 is greater than 25\n",
    "```\n"
   ]
  },
  {
   "cell_type": "code",
   "execution_count": 8,
   "metadata": {},
   "outputs": [
    {
     "name": "stdout",
     "output_type": "stream",
     "text": [
      "Enter a number: 25\n",
      "25 is greater than 25\n"
     ]
    }
   ],
   "source": [
    "n=int(input(\"Enter a number: \"))\n",
    "if n>=25:\n",
    "    print(\"{} is greater than 25\".format(n))"
   ]
  },
  {
   "cell_type": "markdown",
   "metadata": {},
   "source": [
    "```\n",
    "Sample Program-2:\n",
    "// fixed some value for comparision 25\n",
    "Input-1: 50\n",
    "Output:\n",
    "        50 is greater than 25\n",
    "Input-2: 23\n",
    "Output:\n",
    "        23 is lesser than 25\n",
    "```"
   ]
  },
  {
   "cell_type": "code",
   "execution_count": 11,
   "metadata": {},
   "outputs": [
    {
     "name": "stdout",
     "output_type": "stream",
     "text": [
      "Enter a number: 20\n",
      "20 is lesser than 25\n"
     ]
    }
   ],
   "source": [
    "n=int(input(\"Enter a number: \"))\n",
    "if n>25:\n",
    "    print(\"{} is greater than 25\".format(n))\n",
    "else:\n",
    "    print(\"{} is lesser than 25\".format(n))"
   ]
  },
  {
   "cell_type": "markdown",
   "metadata": {},
   "source": [
    "```\n",
    "Sample Program-3:\n",
    "// fixed some value for comparision 25\n",
    "Input-1: 50\n",
    "Output:\n",
    "        50 is greater than 25\n",
    "Input-2: 23\n",
    "Output:\n",
    "        23 is lesser than 25\n",
    "Input-3: 25\n",
    "Output:\n",
    "        25 is equal to 25\n",
    "        ```"
   ]
  },
  {
   "cell_type": "code",
   "execution_count": 15,
   "metadata": {},
   "outputs": [
    {
     "name": "stdout",
     "output_type": "stream",
     "text": [
      "Enter a number: 25\n",
      "25 is equal to 25\n"
     ]
    }
   ],
   "source": [
    "n=int(input(\"Enter a number: \"))\n",
    "if n>25:\n",
    "    print(\"{} is greater than 25\".format(n))\n",
    "elif n<25:\n",
    "    print(\"{} is lesser than 25\".format(n))\n",
    "else:\n",
    "    print(\"{} is equal to 25\".format(n))"
   ]
  },
  {
   "cell_type": "markdown",
   "metadata": {},
   "source": [
    "#### Dynamic Way of a program for Conditional Statements"
   ]
  },
  {
   "cell_type": "code",
   "execution_count": 18,
   "metadata": {},
   "outputs": [
    {
     "name": "stdout",
     "output_type": "stream",
     "text": [
      "Enter a number: 340\n",
      "Enter a number to fix a value450\n",
      "340 is lesser than 450\n"
     ]
    }
   ],
   "source": [
    "n=int(input(\"Enter a number: \"))\n",
    "m=int(input(\"Enter a number to fix a value: \"))\n",
    "if n>m:\n",
    "    print(\"{} is greater than {}\".format(n,m))\n",
    "elif n==m:\n",
    "    print(\"{} is Equal to {}\".format(n,m))\n",
    "else:\n",
    "    print(\"{} is lesser than {}\".format(n,m))"
   ]
  },
  {
   "cell_type": "markdown",
   "metadata": {},
   "source": [
    "```\n",
    "Sample Program-4:\n",
    "\n",
    "Check whether given number is even or odd\n",
    "\n",
    "Input-1: 24\n",
    "Output: 24 is Even Number\n",
    "Input-2: 3\n",
    "Output: 3 is Odd Number\n",
    "```"
   ]
  },
  {
   "cell_type": "code",
   "execution_count": 20,
   "metadata": {},
   "outputs": [
    {
     "name": "stdout",
     "output_type": "stream",
     "text": [
      "Enter a number: 3\n",
      "3 is Odd Number\n"
     ]
    }
   ],
   "source": [
    "n=int(input(\"Enter a number: \"))\n",
    "if n%2==0:\n",
    "    print(\"{} is Even Number\".format(n))\n",
    "else:\n",
    "    print(\"{} is Odd Number\".format(n))"
   ]
  },
  {
   "cell_type": "code",
   "execution_count": 24,
   "metadata": {},
   "outputs": [
    {
     "name": "stdout",
     "output_type": "stream",
     "text": [
      "Enter a number: 40\n",
      "40 is Divisible by 5\n"
     ]
    }
   ],
   "source": [
    "n=int(input(\"Enter a number: \"))\n",
    "if n%5==0:\n",
    "    print(\"{} is Divisible by 5\".format(n))\n",
    "else:\n",
    "    print(\"{} is Not Divisible by 5\".format(n))"
   ]
  },
  {
   "cell_type": "markdown",
   "metadata": {},
   "source": [
    "```\n",
    "Sample Program-5:\n",
    "   -Fix some values for Userid and pwd\n",
    "   -UserId:340 Pwd:123\n",
    "Input-1: 341 123\n",
    "Output: 341 is not a valid user\n",
    "Input-2: 340 124\n",
    "Output: 124 is not a valid pwd\n",
    "Input-3: 340 123\n",
    "Output: Welcome UserId: 340\n",
    "```"
   ]
  },
  {
   "cell_type": "code",
   "execution_count": 30,
   "metadata": {},
   "outputs": [
    {
     "name": "stdout",
     "output_type": "stream",
     "text": [
      "Enter a userid: 340\n",
      "Enter password: 123\n",
      "Welcome UserId: 340\n"
     ]
    }
   ],
   "source": [
    "userid=int(input(\"Enter a userid: \"))\n",
    "if userid==340:\n",
    "    pwd=int(input(\"Enter password: \"))\n",
    "    if pwd==123:\n",
    "        print(\"Welcome UserId: {}\".format(userid))\n",
    "    else:\n",
    "        print(\"{} is not a Valid Password\".format(pwd))\n",
    "else:\n",
    "    print(\"{} is not a Valid User\".format(userid))"
   ]
  },
  {
   "cell_type": "markdown",
   "metadata": {},
   "source": [
    "```\n",
    "Sample Program-6:\n",
    "\n",
    "Input-1: 30\n",
    "Output: 30 is Divisible by 5 and 3\n",
    "Input-2: 25\n",
    "Output: 25 is Divisible by 5 but not with 3\n",
    "Input-3: 21\n",
    "Output: 21 is Not Divisible by 5\n",
    "```"
   ]
  },
  {
   "cell_type": "code",
   "execution_count": 2,
   "metadata": {},
   "outputs": [
    {
     "name": "stdout",
     "output_type": "stream",
     "text": [
      "Enter a number: 6\n",
      "6 is Divisible by 3 and 2\n"
     ]
    }
   ],
   "source": [
    "n=int(input(\"Enter a number: \"))\n",
    "if n%5==0:\n",
    "    if n%3==0:\n",
    "        print(\"{} is Divisible by 5 and 3\".format(n))\n",
    "    else:\n",
    "        print(\"{} is Divisible by 5 but not with 3\".format(n))\n",
    "else:\n",
    "    print(\"{} is Not Divisible by 5\".format(n))"
   ]
  },
  {
   "cell_type": "code",
   "execution_count": 3,
   "metadata": {},
   "outputs": [
    {
     "name": "stdout",
     "output_type": "stream",
     "text": [
      "Enter a number: 28\n",
      "28 is Not Divisible by 3 and 5\n"
     ]
    }
   ],
   "source": [
    "n=int(input(\"Enter a number: \"))\n",
    "if n%5==0:\n",
    "    if n%3==0:\n",
    "        print(\"{} is Divisible by 5 and 3\".format(n))\n",
    "    else:\n",
    "        print(\"{} is Divisible by 5 but not with 3\".format(n))\n",
    "elif n%3==0:\n",
    "    if n%2==0:\n",
    "        print(\"{} is Divisible by 3 and 2\".format(n))\n",
    "    else:\n",
    "        print(\"{} is Divisible by 3 but not with 2\".format(n))\n",
    "else:\n",
    "    print(\"{} is Not Divisible by 3 and 5\".format(n))"
   ]
  },
  {
   "cell_type": "markdown",
   "metadata": {},
   "source": [
    "# Strings:"
   ]
  },
  {
   "cell_type": "code",
   "execution_count": null,
   "metadata": {},
   "outputs": [],
   "source": [
    "name = 'raju'\n",
    "\n",
    " 0  1  2  3\n",
    " r  a  j  u\n",
    "-4 -3 -2 -1\n",
    "\n",
    "name[0] -> formard directions\n",
    "name[-2] -> reverse directions\n",
    "name[1:] -> index skip and prints all elements"
   ]
  },
  {
   "cell_type": "code",
   "execution_count": 62,
   "metadata": {
    "scrolled": true
   },
   "outputs": [
    {
     "name": "stdout",
     "output_type": "stream",
     "text": [
      "re\n"
     ]
    }
   ],
   "source": [
    "name = 'raja sekhar'\n",
    "'''print(name[1:]) \n",
    "print(name[:1])\n",
    "print(name[-2:])\n",
    "print(name[:-2])'''\n",
    "print(name[11:2:-4])"
   ]
  },
  {
   "cell_type": "code",
   "execution_count": 105,
   "metadata": {},
   "outputs": [
    {
     "name": "stdout",
     "output_type": "stream",
     "text": [
      "['__add__', '__class__', '__contains__', '__delattr__', '__dir__', '__doc__', '__eq__', '__format__', '__ge__', '__getattribute__', '__getitem__', '__getnewargs__', '__gt__', '__hash__', '__init__', '__init_subclass__', '__iter__', '__le__', '__len__', '__lt__', '__mod__', '__mul__', '__ne__', '__new__', '__reduce__', '__reduce_ex__', '__repr__', '__rmod__', '__rmul__', '__setattr__', '__sizeof__', '__str__', '__subclasshook__', 'capitalize', 'casefold', 'center', 'count', 'encode', 'endswith', 'expandtabs', 'find', 'format', 'format_map', 'index', 'isalnum', 'isalpha', 'isascii', 'isdecimal', 'isdigit', 'isidentifier', 'islower', 'isnumeric', 'isprintable', 'isspace', 'istitle', 'isupper', 'join', 'ljust', 'lower', 'lstrip', 'maketrans', 'partition', 'replace', 'rfind', 'rindex', 'rjust', 'rpartition', 'rsplit', 'rstrip', 'split', 'splitlines', 'startswith', 'strip', 'swapcase', 'title', 'translate', 'upper', 'zfill']\n"
     ]
    }
   ],
   "source": [
    "print(dir(str))"
   ]
  },
  {
   "cell_type": "code",
   "execution_count": 160,
   "metadata": {},
   "outputs": [
    {
     "name": "stdout",
     "output_type": "stream",
     "text": [
      "Python Examples\n",
      "Python Examples\n",
      "Py\n",
      "es\n",
      "n Examples\n",
      "Python Exa\n",
      "ython Example\n",
      "Python \n",
      "Examples\n",
      "15\n",
      "selpmaxE nohtyP\n",
      "h\n",
      "E \n",
      "Pto xmls\n",
      "slmx otP\n"
     ]
    }
   ],
   "source": [
    "s=\"Python Examples\"\n",
    "print(s) #Accessing all the elements\n",
    "print(s[:]) # Accessing all the elements \n",
    "print(s[0:2]) # Starting of 2 characters are to be printed\n",
    "print(s[-2:]) #Ending of 2 Characters are to be printed\n",
    "print(s[5:]) #After the 5 position characters are to be printed\n",
    "print(s[:-5]) #Before the 5 position in reverse formated are \n",
    "              # to be skipped and remaining are printed\n",
    "print(s[1:-1]) # First and Last elements are to be removed and printed\n",
    "print(s[:len(s)//2]) #Second half of the string characters are Skipped \n",
    "print(s[len(s)//2:]) #First half of the string characters are skipped\n",
    "print(len(s)) # To print the length of a string\n",
    "print(s[-1::-1]) # Reverse the string\n",
    "print(s[3:2:-1]) # P Y T H\n",
    "print(s[::2]) # Even place characters in forward\n",
    "print(s[::-2]) # Even Place in reverse order"
   ]
  },
  {
   "cell_type": "markdown",
   "metadata": {},
   "source": [
    "#### String Methods -> Split()"
   ]
  },
  {
   "cell_type": "code",
   "execution_count": 172,
   "metadata": {},
   "outputs": [
    {
     "name": "stdout",
     "output_type": "stream",
     "text": [
      "['Rajesh', 'is', 'good', 'at', 'teaching', 'sdjbfajhsbfhjbsdjhdfb']\n",
      "<class 'list'>\n",
      "Rajesh\n",
      "sdjbfajhsbfhjbsdjhdfb\n",
      "['sdjbfajhsbfhjbsdjhdfb', 'teaching', 'at', 'good', 'is', 'Rajesh']\n",
      "6\n",
      "['Rajesh', 'is', 'good', 'at', 'teaching', 'sdjbfajhsbfhjbsdjhdfb']\n",
      "['at', 'teaching', 'sdjbfajhsbfhjbsdjhdfb']\n"
     ]
    }
   ],
   "source": [
    "s=\"Rajesh is good at teaching sdjbfajhsbfhjbsdjhdfb\"\n",
    "s=s.split()\n",
    "print(s)\n",
    "print(type(s))\n",
    "print(s[0])\n",
    "print(s[-1])\n",
    "print(s[-1::-1])\n",
    "print(len(s))\n",
    "print(s[:])\n",
    "print(s[len(s)//2:])"
   ]
  },
  {
   "cell_type": "code",
   "execution_count": 181,
   "metadata": {},
   "outputs": [
    {
     "name": "stdout",
     "output_type": "stream",
     "text": [
      "['123', '1235', '128', '190']\n",
      "1358\n",
      "<class 'str'>\n",
      "<class 'str'>\n"
     ]
    }
   ],
   "source": [
    "s='123 1235 128 190'\n",
    "s=s.split()\n",
    "print(s)\n",
    "k=s[0]\n",
    "l=s[1]\n",
    "print(int(k)+int(l))\n",
    "print(type(k))\n",
    "print(type(l))"
   ]
  },
  {
   "cell_type": "code",
   "execution_count": 188,
   "metadata": {},
   "outputs": [
    {
     "name": "stdout",
     "output_type": "stream",
     "text": [
      "['rajesh raju']\n"
     ]
    }
   ],
   "source": [
    "s=\"rajesh raju\"\n",
    "s=s.split('4')\n",
    "print(s)"
   ]
  },
  {
   "cell_type": "markdown",
   "metadata": {},
   "source": [
    "#### Join Method:"
   ]
  },
  {
   "cell_type": "code",
   "execution_count": 207,
   "metadata": {},
   "outputs": [
    {
     "name": "stdout",
     "output_type": "stream",
     "text": [
      "['rajesh', 'is', 'a', 'good', 'boy']\n",
      "rajesh123\n",
      "is123\n",
      "a123\n",
      "good123\n",
      "boy\n"
     ]
    }
   ],
   "source": [
    "s=\"rajesh is a good boy\"\n",
    "s=s.split()\n",
    "s2=\"123\\n\".join(s)\n",
    "print(s)\n",
    "print(s2)"
   ]
  },
  {
   "cell_type": "markdown",
   "metadata": {},
   "source": [
    "#### isupper,islower [ is ] Methods will print as Either True or False:"
   ]
  },
  {
   "cell_type": "code",
   "execution_count": 212,
   "metadata": {},
   "outputs": [
    {
     "name": "stdout",
     "output_type": "stream",
     "text": [
      "False\n"
     ]
    }
   ],
   "source": [
    "s=\"Rajesh\"\n",
    "s=s.isupper()\n",
    "print(s)"
   ]
  },
  {
   "cell_type": "code",
   "execution_count": 214,
   "metadata": {},
   "outputs": [
    {
     "name": "stdout",
     "output_type": "stream",
     "text": [
      "True\n"
     ]
    }
   ],
   "source": [
    "s=\"rajesh\"\n",
    "s=s.islower()\n",
    "print(s)"
   ]
  },
  {
   "cell_type": "code",
   "execution_count": 232,
   "metadata": {},
   "outputs": [
    {
     "name": "stdout",
     "output_type": "stream",
     "text": [
      "<class 'str'>\n",
      "True\n",
      "<class 'str'>\n",
      "<class 'bool'>\n"
     ]
    }
   ],
   "source": [
    "s='123'\n",
    "print(type(s))\n",
    "d=s.isnumeric()\n",
    "print(d)\n",
    "print(type(s))\n",
    "print(type(d))"
   ]
  },
  {
   "cell_type": "markdown",
   "metadata": {},
   "source": [
    "#### Count Method:"
   ]
  },
  {
   "cell_type": "code",
   "execution_count": 228,
   "metadata": {},
   "outputs": [
    {
     "name": "stdout",
     "output_type": "stream",
     "text": [
      "3\n"
     ]
    }
   ],
   "source": [
    "s=\"rajesh is a good boy\"\n",
    "s=s.count('o')\n",
    "print(s)"
   ]
  },
  {
   "cell_type": "markdown",
   "metadata": {},
   "source": [
    "# Functions:"
   ]
  },
  {
   "cell_type": "markdown",
   "metadata": {},
   "source": [
    "- To Perform a Specific Task\n",
    "- To reduce the code and complexity of a problem so we are dividing the problem into number of modules(functions).\n",
    "```\n",
    "Syntax: \n",
    "        def function_name(arguments):\n",
    "            //stmnts\n",
    "            return\n",
    "```\n",
    "```\n",
    "User Defined Functions:\n",
    "    - Reading \n",
    "    - Printing\n",
    "    - Logic\n",
    "    1.Without return type and without arguments\n",
    "    2.Without return type and with arguments\n",
    "    3.With return type and without arguments\n",
    "    4.With return type and with arguments\n",
    "```"
   ]
  },
  {
   "cell_type": "markdown",
   "metadata": {},
   "source": [
    "### 1. Without return type and without arguments"
   ]
  },
  {
   "cell_type": "code",
   "execution_count": 234,
   "metadata": {},
   "outputs": [
    {
     "name": "stdout",
     "output_type": "stream",
     "text": [
      "Enter first number: 3\n",
      "Enter second number: 4\n",
      "Addition of 3 and 4 is: 7\n"
     ]
    }
   ],
   "source": [
    "def addition():\n",
    "    n=int(input(\"Enter first number: \"))\n",
    "    m=int(input(\"Enter second number: \"))\n",
    "    print(\"Addition of {} and {} is: {}\".format(n,m,n+m))\n",
    "    return\n",
    "\n",
    "addition()"
   ]
  },
  {
   "cell_type": "code",
   "execution_count": 235,
   "metadata": {},
   "outputs": [
    {
     "name": "stdout",
     "output_type": "stream",
     "text": [
      "1st no: 1\n",
      "2nd no: 2\n",
      "3rd no: 4\n",
      "4th no: 10\n",
      "Multiplication of 1,2,4 and 10 is: 80\n"
     ]
    }
   ],
   "source": [
    "def mul4():\n",
    "    n=int(input(\"1st no: \"))\n",
    "    m=int(input(\"2nd no: \"))\n",
    "    p=int(input(\"3rd no: \"))\n",
    "    q=int(input(\"4th no: \"))\n",
    "    print(\"Multiplication of {},{},{} and {} is: {}\".\n",
    "          format(n,m,p,q,n*m*p*q))\n",
    "    return\n",
    "\n",
    "mul4()"
   ]
  },
  {
   "cell_type": "markdown",
   "metadata": {},
   "source": [
    "### 2.Without return type and with arguments"
   ]
  },
  {
   "cell_type": "code",
   "execution_count": 241,
   "metadata": {},
   "outputs": [
    {
     "name": "stdout",
     "output_type": "stream",
     "text": [
      "4\n",
      "1\n",
      "Substraction of 4 and 1 is: 3\n"
     ]
    }
   ],
   "source": [
    "def sub(a,b):\n",
    "    print(\"Substraction of {} and {} is: {}\".format(a,b,a-b))\n",
    "    return\n",
    "\n",
    "n=int(input())\n",
    "m=int(input())\n",
    "sub(n,m)"
   ]
  },
  {
   "cell_type": "markdown",
   "metadata": {},
   "source": [
    "### 3.With return type and without arguments"
   ]
  },
  {
   "cell_type": "code",
   "execution_count": 5,
   "metadata": {},
   "outputs": [
    {
     "name": "stdout",
     "output_type": "stream",
     "text": [
      "5\n",
      "4\n",
      "Division of 5 and 4 is:1\n"
     ]
    }
   ],
   "source": [
    "def Div():\n",
    "    n=int(input())\n",
    "    m=int(input())\n",
    "    print(\"Division of {} and {} is:\".format(n,m),end=\"\")\n",
    "    return n//m\n",
    "\n",
    "print(\"{}\".format(Div()))"
   ]
  },
  {
   "cell_type": "markdown",
   "metadata": {},
   "source": [
    "### 4.With return type and with arguments"
   ]
  },
  {
   "cell_type": "code",
   "execution_count": 1,
   "metadata": {},
   "outputs": [
    {
     "name": "stdout",
     "output_type": "stream",
     "text": [
      "2\n",
      "Cube of 2 is: 8\n"
     ]
    }
   ],
   "source": [
    "def cube(b):\n",
    "    return b*b*b\n",
    "\n",
    "n=int(input())\n",
    "print(\"Cube of {} is: {}\".format(n,cube(n)))"
   ]
  },
  {
   "cell_type": "code",
   "execution_count": 3,
   "metadata": {},
   "outputs": [
    {
     "name": "stdout",
     "output_type": "stream",
     "text": [
      "5\n",
      "5 is odd number.\n"
     ]
    }
   ],
   "source": [
    "def evn(k):\n",
    "    if k%2==0:\n",
    "        return True\n",
    "    else:\n",
    "        return False\n",
    "\n",
    "n=int(input())\n",
    "if evn(n)==True:\n",
    "    print(\"{} is even number.\".format(n))\n",
    "else:\n",
    "    print(\"{} is odd number.\".format(n))"
   ]
  },
  {
   "cell_type": "code",
   "execution_count": null,
   "metadata": {},
   "outputs": [],
   "source": []
  }
 ],
 "metadata": {
  "kernelspec": {
   "display_name": "Python 3",
   "language": "python",
   "name": "python3"
  },
  "language_info": {
   "codemirror_mode": {
    "name": "ipython",
    "version": 3
   },
   "file_extension": ".py",
   "mimetype": "text/x-python",
   "name": "python",
   "nbconvert_exporter": "python",
   "pygments_lexer": "ipython3",
   "version": "3.7.3"
  }
 },
 "nbformat": 4,
 "nbformat_minor": 2
}
