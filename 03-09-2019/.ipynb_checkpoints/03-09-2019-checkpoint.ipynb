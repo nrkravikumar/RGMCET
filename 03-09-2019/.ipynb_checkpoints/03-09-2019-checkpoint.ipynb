{
 "cells": [
  {
   "cell_type": "code",
   "execution_count": 9,
   "metadata": {},
   "outputs": [
    {
     "name": "stdout",
     "output_type": "stream",
     "text": [
      "Hello\n",
      "WelcomeRaju\n",
      "Welcome"
     ]
    }
   ],
   "source": [
    "print(\"Hello\",end=\"\\nWelcome\")\n",
    "print(\"Raju\",end=\"\\nWelcome\")"
   ]
  },
  {
   "cell_type": "markdown",
   "metadata": {},
   "source": [
    "# Hello\n",
    "## Raju\n",
    "### Rani\n",
    "#### Manthri\n",
    "##### Kindom\n",
    "###### sahoo"
   ]
  },
  {
   "cell_type": "markdown",
   "metadata": {},
   "source": [
    "**HELLO**\n",
    "*Hello*\n",
    "***Hello***"
   ]
  },
  {
   "cell_type": "markdown",
   "metadata": {},
   "source": [
    " ~~Hello~~\n",
    " ~~~Hello~"
   ]
  },
  {
   "cell_type": "markdown",
   "metadata": {},
   "source": [
    " **Hello**\n",
    " *Hello*\n",
    " ***Hello***"
   ]
  },
  {
   "cell_type": "markdown",
   "metadata": {},
   "source": [
    " **Hello**\n",
    " *Hello*\n",
    " ***Hello***"
   ]
  },
  {
   "cell_type": "markdown",
   "metadata": {},
   "source": [
    "### Bold"
   ]
  },
  {
   "cell_type": "markdown",
   "metadata": {},
   "source": [
    "**This is a Bold tag**"
   ]
  },
  {
   "cell_type": "markdown",
   "metadata": {},
   "source": [
    "### Italic"
   ]
  },
  {
   "cell_type": "markdown",
   "metadata": {},
   "source": [
    "*This is Italic*"
   ]
  },
  {
   "cell_type": "markdown",
   "metadata": {},
   "source": [
    "### strikethrough"
   ]
  },
  {
   "cell_type": "markdown",
   "metadata": {},
   "source": [
    "~~This is strikethrough tag~~"
   ]
  },
  {
   "cell_type": "markdown",
   "metadata": {},
   "source": [
    "### bold and italic"
   ]
  },
  {
   "cell_type": "markdown",
   "metadata": {},
   "source": [
    "**This is bold and _italic_ _sdfknanskjldlfkasbd_ tag**"
   ]
  },
  {
   "cell_type": "markdown",
   "metadata": {},
   "source": [
    "### all bold and italic"
   ]
  },
  {
   "cell_type": "markdown",
   "metadata": {},
   "source": [
    "***This is all bold and italic tags***"
   ]
  },
  {
   "cell_type": "markdown",
   "metadata": {},
   "source": [
    "### Quoting test"
   ]
  },
  {
   "cell_type": "markdown",
   "metadata": {},
   "source": [
    "> welcome to everyone"
   ]
  },
  {
   "cell_type": "markdown",
   "metadata": {},
   "source": [
    "### Quoting code"
   ]
  },
  {
   "cell_type": "markdown",
   "metadata": {},
   "source": [
    "use `git cmd` for the references"
   ]
  },
  {
   "cell_type": "markdown",
   "metadata": {},
   "source": [
    "#### Quoting Code with number of examples"
   ]
  },
  {
   "cell_type": "markdown",
   "metadata": {},
   "source": [
    "`shareef`\n",
    "`dastagiri`\n",
    "`manohar`"
   ]
  },
  {
   "cell_type": "markdown",
   "metadata": {},
   "source": [
    "```\n",
    "sdsdkdbcj\n",
    "sdfgsdfg\n",
    "dsfgdfsgd\n",
    "assfasdfasdf\n",
    "```"
   ]
  },
  {
   "cell_type": "markdown",
   "metadata": {},
   "source": [
    "### Links"
   ]
  },
  {
   "cell_type": "markdown",
   "metadata": {},
   "source": [
    "click here to proceed for[Google](http://engineering.apssdc.in) Facebook[fb](http://fb.com) Github[gtb](http://github.com)"
   ]
  },
  {
   "cell_type": "markdown",
   "metadata": {},
   "source": [
    "### Section Link: link -> link"
   ]
  },
  {
   "cell_type": "markdown",
   "metadata": {},
   "source": [
    "Visit Url [Click here to proceed](..\\03-09-2019\\12.png)"
   ]
  },
  {
   "cell_type": "markdown",
   "metadata": {},
   "source": [
    "google pic [Google image](..\\03-09-2019\\google.png)"
   ]
  },
  {
   "cell_type": "markdown",
   "metadata": {},
   "source": [
    "### Relative link: local files"
   ]
  },
  {
   "cell_type": "markdown",
   "metadata": {},
   "source": [
    "click[view](..\\03-09-2019\\sample.txt) f1 file [click](..\\03-09-2019\\f1.txt)"
   ]
  },
  {
   "cell_type": "markdown",
   "metadata": {},
   "source": [
    "### Lists:"
   ]
  },
  {
   "cell_type": "markdown",
   "metadata": {},
   "source": [
    "#### Ordered List:\n",
    "\n",
    "\n",
    "1. Chapter-1\n",
    "2. Chapter-2\n",
    "\n",
    "\n",
    "#### Unordered List:\n",
    "\n",
    "- Chapter-3\n",
    "* Chapter-4\n",
    "\n",
    "\n",
    "#### Nested List:\n",
    "\n",
    "1. Chapter-1\n",
    "   - First Content\n",
    "     - First of First\n",
    "       - First of First second\n",
    "     - First of Second\n",
    "       - First of Second second\n",
    "   - Second Content\n",
    "     - Second of First\n",
    "     - Second of Second"
   ]
  },
  {
   "cell_type": "markdown",
   "metadata": {},
   "source": [
    "### Task List:\n",
    "\n",
    "- [x] True\n",
    "- [ ] False\n",
    "- [ ] \\(optional)"
   ]
  },
  {
   "cell_type": "markdown",
   "metadata": {},
   "source": [
    "### Mentioning People and Teams:\n",
    "\n",
    "@sample@gmail.com/ how is the site update?"
   ]
  },
  {
   "cell_type": "markdown",
   "metadata": {},
   "source": [
    "### Using Emoji"
   ]
  },
  {
   "cell_type": "markdown",
   "metadata": {},
   "source": [
    "Good Luck 👍"
   ]
  },
  {
   "cell_type": "markdown",
   "metadata": {},
   "source": [
    "<img src=\"google.png\" alt=\"screen-1\">"
   ]
  }
 ],
 "metadata": {
  "kernelspec": {
   "display_name": "Python 3",
   "language": "python",
   "name": "python3"
  },
  "language_info": {
   "codemirror_mode": {
    "name": "ipython",
    "version": 3
   },
   "file_extension": ".py",
   "mimetype": "text/x-python",
   "name": "python",
   "nbconvert_exporter": "python",
   "pygments_lexer": "ipython3",
   "version": "3.7.3"
  }
 },
 "nbformat": 4,
 "nbformat_minor": 2
}
