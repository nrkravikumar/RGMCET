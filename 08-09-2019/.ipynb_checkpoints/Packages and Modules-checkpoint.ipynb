{
 "cells": [
  {
   "cell_type": "markdown",
   "metadata": {},
   "source": [
    "```\n",
    "Packages and Modules:\n",
    "\n",
    "Modules: -> eee.py -> no of functions\n",
    "                   -> Students Count()\n",
    "                   -> Student names()\n",
    "                   -> Student Marks()\n",
    "                   \n",
    "Packages: -> RGM -> no of modules\n",
    "                 -> eee.py\n",
    "                 -> ece.py\n",
    "                 -> cse.py\n",
    "```"
   ]
  },
  {
   "cell_type": "code",
   "execution_count": 4,
   "metadata": {},
   "outputs": [
    {
     "name": "stdout",
     "output_type": "stream",
     "text": [
      "1.7320508075688772\n"
     ]
    }
   ],
   "source": [
    "from math import sqrt as s\n",
    "print(s(3))"
   ]
  },
  {
   "cell_type": "code",
   "execution_count": 2,
   "metadata": {},
   "outputs": [
    {
     "name": "stdout",
     "output_type": "stream",
     "text": [
      "6\n",
      "1 2 3 4 5 6 "
     ]
    }
   ],
   "source": [
    "from RGM import eee\n",
    "\n",
    "n=int(input())\n",
    "eee.nat(n)"
   ]
  },
  {
   "cell_type": "code",
   "execution_count": 9,
   "metadata": {},
   "outputs": [
    {
     "name": "stdout",
     "output_type": "stream",
     "text": [
      "6\n",
      "50\n",
      "Given number is: 50 and its factorial is: 30414093201713378043612608166064768844377641568960512000000000000\n",
      "3\n",
      "Given number is: 3 and its factorial is: 6\n",
      "60\n",
      "Given number is: 60 and its factorial is: 8320987112741390144276341183223364380754172606361245952449277696409600000000000000\n",
      "45\n",
      "Given number is: 45 and its factorial is: 119622220865480194561963161495657715064383733760000000000\n",
      "7\n",
      "Given number is: 7 and its factorial is: 5040\n",
      "5\n",
      "Given number is: 5 and its factorial is: 120\n"
     ]
    }
   ],
   "source": [
    "from RGM import eee\n",
    "\n",
    "n=int(input())\n",
    "#eee.facto(n)\n",
    "for i in range(1,n+1):\n",
    "    k=int(input())\n",
    "    eee.facto(k)"
   ]
  },
  {
   "cell_type": "code",
   "execution_count": 5,
   "metadata": {},
   "outputs": [
    {
     "name": "stdout",
     "output_type": "stream",
     "text": [
      "Enter the size of numbers to generate: 2\n",
      "Enter lower range: 10\n",
      "Enter Upper range: 500\n",
      "407 153 "
     ]
    }
   ],
   "source": [
    "import random as r\n",
    "\n",
    "n=int(input(\"Enter the size of numbers to generate: \"))\n",
    "l=int(input(\"Enter lower range: \"))\n",
    "p=int(input(\"Enter Upper range: \"))\n",
    "for i in range(n):\n",
    "    print(r.randint(l,p),end=\" \")\n",
    "    "
   ]
  },
  {
   "cell_type": "code",
   "execution_count": 3,
   "metadata": {
    "scrolled": true
   },
   "outputs": [
    {
     "name": "stdout",
     "output_type": "stream",
     "text": [
      "8\n",
      "Given number is: 8 and its factorial is: 40320\n"
     ]
    }
   ],
   "source": [
    "m=int(input())\n",
    "eee.facto(m)"
   ]
  },
  {
   "cell_type": "markdown",
   "metadata": {},
   "source": [
    "```\n",
    "Regular Expressions:\n",
    "        -> Used for Validation purpose\n",
    "```"
   ]
  },
  {
   "cell_type": "markdown",
   "metadata": {},
   "source": [
    "```\n",
    "Comprehensions:\n",
    "\n",
    "    List,Tuple,Set\n",
    "    \n",
    "    easy to create a list or tuple or a set\n",
    "```\n"
   ]
  },
  {
   "cell_type": "code",
   "execution_count": 2,
   "metadata": {},
   "outputs": [
    {
     "name": "stdout",
     "output_type": "stream",
     "text": [
      "5\n",
      "[1, 2, 3, 4, 5]\n"
     ]
    }
   ],
   "source": [
    "n=int(input())\n",
    "l=[]\n",
    "for i in range(1,n+1):\n",
    "    l.append(i)\n",
    "print(l)"
   ]
  },
  {
   "cell_type": "code",
   "execution_count": 5,
   "metadata": {},
   "outputs": [
    {
     "name": "stdout",
     "output_type": "stream",
     "text": [
      "5\n",
      "[1, 2, 3, 4, 5]\n"
     ]
    }
   ],
   "source": [
    "#n=int(input())\n",
    "l=[i for i in range(1,int(input())+1)]\n",
    "print(l)"
   ]
  },
  {
   "cell_type": "code",
   "execution_count": 16,
   "metadata": {},
   "outputs": [
    {
     "name": "stdout",
     "output_type": "stream",
     "text": [
      "4\n",
      "[1, 4, 27, 256]\n"
     ]
    }
   ],
   "source": [
    "l=[i**i for i in range(1,int(input())+1)]\n",
    "print(l)"
   ]
  },
  {
   "cell_type": "code",
   "execution_count": 21,
   "metadata": {},
   "outputs": [
    {
     "name": "stdout",
     "output_type": "stream",
     "text": [
      "5\n",
      "[1, 4, 9, 16, 25]\n",
      "()\n"
     ]
    }
   ],
   "source": [
    "t=(i*i for i in range(1,int(input())+1))\n",
    "print(list(t))\n",
    "print(tuple(t))"
   ]
  },
  {
   "cell_type": "code",
   "execution_count": 23,
   "metadata": {},
   "outputs": [
    {
     "name": "stdout",
     "output_type": "stream",
     "text": [
      "5\n",
      "{1, 4, 9, 16, 25}\n"
     ]
    }
   ],
   "source": [
    "k={i*i for i in range(1,int(input())+1)}\n",
    "print(k)"
   ]
  },
  {
   "cell_type": "code",
   "execution_count": 24,
   "metadata": {},
   "outputs": [
    {
     "name": "stdout",
     "output_type": "stream",
     "text": [
      "akghd skajdh lagsd\n",
      "['akghd', 'skajdh', 'lagsd']\n"
     ]
    }
   ],
   "source": [
    "s=input()\n",
    "s=s.split()\n",
    "print(s)"
   ]
  },
  {
   "cell_type": "code",
   "execution_count": 35,
   "metadata": {},
   "outputs": [
    {
     "name": "stdout",
     "output_type": "stream",
     "text": [
      "asjgdf hjasdf asjkdfh kh\n",
      "['a', 's', 'j', 'g', 'd', 'f', 'h', 'j', 'a', 's', 'd', 'f', 'a', 's', 'j', 'k', 'd', 'f', 'h', 'k', 'h']\n"
     ]
    }
   ],
   "source": [
    "s=input()\n",
    "l=[j for i in s for j in i.split()]\n",
    "print(l)"
   ]
  },
  {
   "cell_type": "code",
   "execution_count": 37,
   "metadata": {},
   "outputs": [
    {
     "name": "stdout",
     "output_type": "stream",
     "text": [
      "['there', 'is', 'a', 'keyword', 'to', 'create', 'a', 'function', 'name']\n"
     ]
    }
   ],
   "source": [
    "number=[\"there is a keyword to create a function name\"]\n",
    "l=[j for i in number for j in i.split()]\n",
    "print(l)"
   ]
  },
  {
   "cell_type": "code",
   "execution_count": 38,
   "metadata": {},
   "outputs": [
    {
     "name": "stdout",
     "output_type": "stream",
     "text": [
      "['there', 'is', 'a', 'keyword', 'to', 'create', 'a', 'function', 'name']\n"
     ]
    }
   ],
   "source": [
    "name=[\"there is a keyword to create a function name\"]\n",
    "l=[]\n",
    "for i in name:\n",
    "    for j in i.split():\n",
    "        l.append(j)\n",
    "print(l)"
   ]
  },
  {
   "cell_type": "markdown",
   "metadata": {},
   "source": [
    "```\n",
    "Iterators: -> collections of data can be iterated one by one\n",
    "           -> List,tuple,set and dictionary\n",
    "   \n",
    "   -> iter() -> either list,tuple,set or dictionary\n",
    "   -> next() -> index values\n",
    "```"
   ]
  },
  {
   "cell_type": "code",
   "execution_count": 15,
   "metadata": {},
   "outputs": [
    {
     "name": "stdout",
     "output_type": "stream",
     "text": [
      "1\n",
      "2\n",
      "5\n"
     ]
    }
   ],
   "source": [
    "c=[1,2,5,7,9]\n",
    "d=iter(c)\n",
    "print(next(d))\n",
    "print(next(d))\n",
    "print(next(d))"
   ]
  },
  {
   "cell_type": "code",
   "execution_count": 18,
   "metadata": {},
   "outputs": [
    {
     "name": "stdout",
     "output_type": "stream",
     "text": [
      "1 2 5 6 8 9 "
     ]
    }
   ],
   "source": [
    "c=[1,2,5,6,8,9]\n",
    "k=iter(c)\n",
    "for i in c:\n",
    "    print(next(k),end=\" \")"
   ]
  },
  {
   "cell_type": "code",
   "execution_count": 27,
   "metadata": {},
   "outputs": [
    {
     "name": "stdout",
     "output_type": "stream",
     "text": [
      "p\n",
      "y\n",
      "t\n"
     ]
    }
   ],
   "source": [
    "d=iter('python')\n",
    "print(next(d))\n",
    "print(next(d))\n",
    "print(next(d))"
   ]
  },
  {
   "cell_type": "markdown",
   "metadata": {},
   "source": [
    "```\n",
    "Generators:\n",
    "            similar to function concepts return(yield)\n",
    "            iterators -> next()\n",
    "            \n",
    "```"
   ]
  },
  {
   "cell_type": "code",
   "execution_count": 30,
   "metadata": {},
   "outputs": [
    {
     "name": "stdout",
     "output_type": "stream",
     "text": [
      "34 45 72 100 "
     ]
    }
   ],
   "source": [
    "def generate():\n",
    "    yield 34\n",
    "    yield 45\n",
    "    yield 72\n",
    "    yield 100\n",
    "\n",
    "for i in generate():\n",
    "    print(i,end=\" \")"
   ]
  },
  {
   "cell_type": "code",
   "execution_count": 44,
   "metadata": {},
   "outputs": [
    {
     "name": "stdout",
     "output_type": "stream",
     "text": [
      "10\n",
      "1 8 27 64 125 216 343 512 729 1000 "
     ]
    }
   ],
   "source": [
    "def cube(n):\n",
    "    while True:\n",
    "        n=n**3\n",
    "        yield n\n",
    "\n",
    "n=int(input())\n",
    "#l=[2,4,6,8,9]\n",
    "for i in range(1,n+1): #len(l):\n",
    "    print(next(cube(i)),end=\" \") #cube(l[i])"
   ]
  },
  {
   "cell_type": "markdown",
   "metadata": {},
   "source": [
    "```\n",
    "Maps: -> List of elements data type conversions\n",
    "      -> expression is passed\n",
    "      \n",
    "    syntax: list(map(function_name,listofinput))\n",
    "    \n",
    "```\n"
   ]
  },
  {
   "cell_type": "code",
   "execution_count": 61,
   "metadata": {},
   "outputs": [
    {
     "name": "stdout",
     "output_type": "stream",
     "text": [
      "10 4 5 6 7\n",
      "<map object at 0x0000017BE7EA1BA8>\n"
     ]
    }
   ],
   "source": [
    "l=[]\n",
    "l=map(int,input())\n",
    "print(l)"
   ]
  },
  {
   "cell_type": "code",
   "execution_count": 70,
   "metadata": {},
   "outputs": [
    {
     "name": "stdout",
     "output_type": "stream",
     "text": [
      "[1, 5, 6, 7, 8]\n"
     ]
    }
   ],
   "source": [
    "def natu(n):\n",
    "    return n\n",
    "\n",
    "k=[1,5,6,7,8]\n",
    "l=list(map(natu,k))\n",
    "print(l)"
   ]
  },
  {
   "cell_type": "code",
   "execution_count": 72,
   "metadata": {},
   "outputs": [
    {
     "name": "stdout",
     "output_type": "stream",
     "text": [
      "(1, 16, 25, 36, 8100)\n"
     ]
    }
   ],
   "source": [
    "def nate(n):\n",
    "    return n*n\n",
    "\n",
    "k=[1,4,5,6,90]\n",
    "l=tuple(map(nate,k))\n",
    "print(l)"
   ]
  },
  {
   "cell_type": "code",
   "execution_count": 75,
   "metadata": {},
   "outputs": [
    {
     "name": "stdout",
     "output_type": "stream",
     "text": [
      "{256, 1, 8916100448256, 4, 27}\n"
     ]
    }
   ],
   "source": [
    "def natur(n):\n",
    "    return n**n\n",
    "\n",
    "k=[1,3,2,4,12]\n",
    "l=set(map(natur,k))\n",
    "print(l)"
   ]
  },
  {
   "cell_type": "markdown",
   "metadata": {},
   "source": [
    "```\n",
    "Filter:\n",
    "       -> Check whether it is true or false\n",
    "       -> Conditional statements are to be used in filter\n",
    "      \n",
    "      syntax: list(filter(function_name,listofinputs))\n",
    "      \n",
    "```"
   ]
  },
  {
   "cell_type": "code",
   "execution_count": 76,
   "metadata": {},
   "outputs": [
    {
     "name": "stdout",
     "output_type": "stream",
     "text": [
      "[1, 5, 6]\n"
     ]
    }
   ],
   "source": [
    "def isDi(c):\n",
    "    c=str(c)\n",
    "    if c.isdigit():\n",
    "        return True\n",
    "    else:\n",
    "        return False\n",
    "l=[1,5,6,'a','t']\n",
    "k=list(filter(isDi,l))\n",
    "print(k)\n",
    "    "
   ]
  },
  {
   "cell_type": "markdown",
   "metadata": {},
   "source": [
    "```\n",
    "Lambda:\n",
    "        anonymous function without a function name\n",
    "        \n",
    "      Syntax: lambda argument:expression\n",
    "      \n",
    "```"
   ]
  },
  {
   "cell_type": "code",
   "execution_count": 81,
   "metadata": {},
   "outputs": [
    {
     "name": "stdout",
     "output_type": "stream",
     "text": [
      "25\n",
      "15625\n"
     ]
    }
   ],
   "source": [
    "l=lambda x:x**3\n",
    "print(l(int(input())))"
   ]
  },
  {
   "cell_type": "code",
   "execution_count": 83,
   "metadata": {},
   "outputs": [
    {
     "name": "stdout",
     "output_type": "stream",
     "text": [
      "[8, 64, 216, 343]\n"
     ]
    }
   ],
   "source": [
    "li=[2,4,6,7]\n",
    "l=list(map(lambda x:x**3,li))\n",
    "print(l)"
   ]
  },
  {
   "cell_type": "code",
   "execution_count": null,
   "metadata": {},
   "outputs": [],
   "source": []
  }
 ],
 "metadata": {
  "kernelspec": {
   "display_name": "Python 3",
   "language": "python",
   "name": "python3"
  },
  "language_info": {
   "codemirror_mode": {
    "name": "ipython",
    "version": 3
   },
   "file_extension": ".py",
   "mimetype": "text/x-python",
   "name": "python",
   "nbconvert_exporter": "python",
   "pygments_lexer": "ipython3",
   "version": "3.7.3"
  }
 },
 "nbformat": 4,
 "nbformat_minor": 2
}
