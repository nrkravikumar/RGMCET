{
 "cells": [
  {
   "cell_type": "markdown",
   "metadata": {},
   "source": [
    "```\n",
    "Packages and Modules:\n",
    "\n",
    "Modules: -> eee.py -> no of functions\n",
    "                   -> Students Count()\n",
    "                   -> Student names()\n",
    "                   -> Student Marks()\n",
    "                   \n",
    "Packages: -> RGM -> no of modules\n",
    "                 -> eee.py\n",
    "                 -> ece.py\n",
    "                 -> cse.py\n",
    "```"
   ]
  },
  {
   "cell_type": "code",
   "execution_count": 4,
   "metadata": {},
   "outputs": [
    {
     "name": "stdout",
     "output_type": "stream",
     "text": [
      "1.7320508075688772\n"
     ]
    }
   ],
   "source": [
    "from math import sqrt as s\n",
    "print(s(3))"
   ]
  },
  {
   "cell_type": "code",
   "execution_count": 2,
   "metadata": {},
   "outputs": [
    {
     "name": "stdout",
     "output_type": "stream",
     "text": [
      "6\n",
      "1 2 3 4 5 6 "
     ]
    }
   ],
   "source": [
    "from RGM import eee\n",
    "\n",
    "n=int(input())\n",
    "eee.nat(n)"
   ]
  },
  {
   "cell_type": "code",
   "execution_count": 9,
   "metadata": {},
   "outputs": [
    {
     "name": "stdout",
     "output_type": "stream",
     "text": [
      "6\n",
      "50\n",
      "Given number is: 50 and its factorial is: 30414093201713378043612608166064768844377641568960512000000000000\n",
      "3\n",
      "Given number is: 3 and its factorial is: 6\n",
      "60\n",
      "Given number is: 60 and its factorial is: 8320987112741390144276341183223364380754172606361245952449277696409600000000000000\n",
      "45\n",
      "Given number is: 45 and its factorial is: 119622220865480194561963161495657715064383733760000000000\n",
      "7\n",
      "Given number is: 7 and its factorial is: 5040\n",
      "5\n",
      "Given number is: 5 and its factorial is: 120\n"
     ]
    }
   ],
   "source": [
    "from RGM import eee\n",
    "\n",
    "n=int(input())\n",
    "#eee.facto(n)\n",
    "for i in range(1,n+1):\n",
    "    k=int(input())\n",
    "    eee.facto(k)"
   ]
  },
  {
   "cell_type": "code",
   "execution_count": 5,
   "metadata": {},
   "outputs": [
    {
     "name": "stdout",
     "output_type": "stream",
     "text": [
      "Enter the size of numbers to generate: 2\n",
      "Enter lower range: 10\n",
      "Enter Upper range: 500\n",
      "407 153 "
     ]
    }
   ],
   "source": [
    "import random as r\n",
    "\n",
    "n=int(input(\"Enter the size of numbers to generate: \"))\n",
    "l=int(input(\"Enter lower range: \"))\n",
    "p=int(input(\"Enter Upper range: \"))\n",
    "for i in range(n):\n",
    "    print(r.randint(l,p),end=\" \")\n",
    "    "
   ]
  },
  {
   "cell_type": "code",
   "execution_count": 3,
   "metadata": {
    "scrolled": true
   },
   "outputs": [
    {
     "name": "stdout",
     "output_type": "stream",
     "text": [
      "8\n",
      "Given number is: 8 and its factorial is: 40320\n"
     ]
    }
   ],
   "source": [
    "m=int(input())\n",
    "eee.facto(m)"
   ]
  },
  {
   "cell_type": "markdown",
   "metadata": {},
   "source": [
    "```\n",
    "Regular Expressions:\n",
    "        -> Used for Validation purpose\n",
    "```"
   ]
  },
  {
   "cell_type": "markdown",
   "metadata": {},
   "source": [
    "```\n",
    "Comprehensions:\n",
    "\n",
    "    List,Tuple,Set\n",
    "    \n",
    "    easy to create a list or tuple or a set\n",
    "```\n"
   ]
  },
  {
   "cell_type": "code",
   "execution_count": 2,
   "metadata": {},
   "outputs": [
    {
     "name": "stdout",
     "output_type": "stream",
     "text": [
      "5\n",
      "[1, 2, 3, 4, 5]\n"
     ]
    }
   ],
   "source": [
    "n=int(input())\n",
    "l=[]\n",
    "for i in range(1,n+1):\n",
    "    l.append(i)\n",
    "print(l)"
   ]
  },
  {
   "cell_type": "code",
   "execution_count": 5,
   "metadata": {},
   "outputs": [
    {
     "name": "stdout",
     "output_type": "stream",
     "text": [
      "5\n",
      "[1, 2, 3, 4, 5]\n"
     ]
    }
   ],
   "source": [
    "#n=int(input())\n",
    "l=[i for i in range(1,int(input())+1)]\n",
    "print(l)"
   ]
  },
  {
   "cell_type": "code",
   "execution_count": 16,
   "metadata": {},
   "outputs": [
    {
     "name": "stdout",
     "output_type": "stream",
     "text": [
      "4\n",
      "[1, 4, 27, 256]\n"
     ]
    }
   ],
   "source": [
    "l=[i**i for i in range(1,int(input())+1)]\n",
    "print(l)"
   ]
  },
  {
   "cell_type": "code",
   "execution_count": 21,
   "metadata": {},
   "outputs": [
    {
     "name": "stdout",
     "output_type": "stream",
     "text": [
      "5\n",
      "[1, 4, 9, 16, 25]\n",
      "()\n"
     ]
    }
   ],
   "source": [
    "t=(i*i for i in range(1,int(input())+1))\n",
    "print(list(t))\n",
    "print(tuple(t))"
   ]
  },
  {
   "cell_type": "code",
   "execution_count": 23,
   "metadata": {},
   "outputs": [
    {
     "name": "stdout",
     "output_type": "stream",
     "text": [
      "5\n",
      "{1, 4, 9, 16, 25}\n"
     ]
    }
   ],
   "source": [
    "k={i*i for i in range(1,int(input())+1)}\n",
    "print(k)"
   ]
  },
  {
   "cell_type": "code",
   "execution_count": 24,
   "metadata": {},
   "outputs": [
    {
     "name": "stdout",
     "output_type": "stream",
     "text": [
      "akghd skajdh lagsd\n",
      "['akghd', 'skajdh', 'lagsd']\n"
     ]
    }
   ],
   "source": [
    "s=input()\n",
    "s=s.split()\n",
    "print(s)"
   ]
  },
  {
   "cell_type": "code",
   "execution_count": 35,
   "metadata": {},
   "outputs": [
    {
     "name": "stdout",
     "output_type": "stream",
     "text": [
      "asjgdf hjasdf asjkdfh kh\n",
      "['a', 's', 'j', 'g', 'd', 'f', 'h', 'j', 'a', 's', 'd', 'f', 'a', 's', 'j', 'k', 'd', 'f', 'h', 'k', 'h']\n"
     ]
    }
   ],
   "source": [
    "s=input()\n",
    "l=[j for i in s for j in i.split()]\n",
    "print(l)"
   ]
  },
  {
   "cell_type": "code",
   "execution_count": 37,
   "metadata": {},
   "outputs": [
    {
     "name": "stdout",
     "output_type": "stream",
     "text": [
      "['there', 'is', 'a', 'keyword', 'to', 'create', 'a', 'function', 'name']\n"
     ]
    }
   ],
   "source": [
    "number=[\"there is a keyword to create a function name\"]\n",
    "l=[j for i in number for j in i.split()]\n",
    "print(l)"
   ]
  },
  {
   "cell_type": "code",
   "execution_count": 38,
   "metadata": {},
   "outputs": [
    {
     "name": "stdout",
     "output_type": "stream",
     "text": [
      "['there', 'is', 'a', 'keyword', 'to', 'create', 'a', 'function', 'name']\n"
     ]
    }
   ],
   "source": [
    "name=[\"there is a keyword to create a function name\"]\n",
    "l=[]\n",
    "for i in name:\n",
    "    for j in i.split():\n",
    "        l.append(j)\n",
    "print(l)"
   ]
  },
  {
   "cell_type": "code",
   "execution_count": null,
   "metadata": {},
   "outputs": [],
   "source": []
  }
 ],
 "metadata": {
  "kernelspec": {
   "display_name": "Python 3",
   "language": "python",
   "name": "python3"
  },
  "language_info": {
   "codemirror_mode": {
    "name": "ipython",
    "version": 3
   },
   "file_extension": ".py",
   "mimetype": "text/x-python",
   "name": "python",
   "nbconvert_exporter": "python",
   "pygments_lexer": "ipython3",
   "version": "3.7.3"
  }
 },
 "nbformat": 4,
 "nbformat_minor": 2
}
