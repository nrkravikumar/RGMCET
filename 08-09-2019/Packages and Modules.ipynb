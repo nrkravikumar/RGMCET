{
 "cells": [
  {
   "cell_type": "markdown",
   "metadata": {},
   "source": [
    "```\n",
    "Packages and Modules:\n",
    "\n",
    "Modules: -> eee.py -> no of functions\n",
    "                   -> Students Count()\n",
    "                   -> Student names()\n",
    "                   -> Student Marks()\n",
    "                   \n",
    "Packages: -> RGM -> no of modules\n",
    "                 -> eee.py\n",
    "                 -> ece.py\n",
    "                 -> cse.py\n",
    "```"
   ]
  },
  {
   "cell_type": "code",
   "execution_count": 4,
   "metadata": {},
   "outputs": [
    {
     "name": "stdout",
     "output_type": "stream",
     "text": [
      "1.7320508075688772\n"
     ]
    }
   ],
   "source": [
    "from math import sqrt as s\n",
    "print(s(3))"
   ]
  },
  {
   "cell_type": "code",
   "execution_count": 2,
   "metadata": {},
   "outputs": [
    {
     "name": "stdout",
     "output_type": "stream",
     "text": [
      "6\n",
      "1 2 3 4 5 6 "
     ]
    }
   ],
   "source": [
    "from RGM import eee\n",
    "\n",
    "n=int(input())\n",
    "eee.nat(n)"
   ]
  },
  {
   "cell_type": "code",
   "execution_count": 9,
   "metadata": {},
   "outputs": [
    {
     "name": "stdout",
     "output_type": "stream",
     "text": [
      "6\n",
      "50\n",
      "Given number is: 50 and its factorial is: 30414093201713378043612608166064768844377641568960512000000000000\n",
      "3\n",
      "Given number is: 3 and its factorial is: 6\n",
      "60\n",
      "Given number is: 60 and its factorial is: 8320987112741390144276341183223364380754172606361245952449277696409600000000000000\n",
      "45\n",
      "Given number is: 45 and its factorial is: 119622220865480194561963161495657715064383733760000000000\n",
      "7\n",
      "Given number is: 7 and its factorial is: 5040\n",
      "5\n",
      "Given number is: 5 and its factorial is: 120\n"
     ]
    }
   ],
   "source": [
    "from RGM import eee\n",
    "\n",
    "n=int(input())\n",
    "#eee.facto(n)\n",
    "for i in range(1,n+1):\n",
    "    k=int(input())\n",
    "    eee.facto(k)"
   ]
  },
  {
   "cell_type": "code",
   "execution_count": 5,
   "metadata": {},
   "outputs": [
    {
     "name": "stdout",
     "output_type": "stream",
     "text": [
      "Enter the size of numbers to generate: 2\n",
      "Enter lower range: 10\n",
      "Enter Upper range: 500\n",
      "407 153 "
     ]
    }
   ],
   "source": [
    "import random as r\n",
    "\n",
    "n=int(input(\"Enter the size of numbers to generate: \"))\n",
    "l=int(input(\"Enter lower range: \"))\n",
    "p=int(input(\"Enter Upper range: \"))\n",
    "for i in range(n):\n",
    "    print(r.randint(l,p),end=\" \")\n",
    "    "
   ]
  },
  {
   "cell_type": "code",
   "execution_count": 3,
   "metadata": {
    "scrolled": true
   },
   "outputs": [
    {
     "name": "stdout",
     "output_type": "stream",
     "text": [
      "8\n",
      "Given number is: 8 and its factorial is: 40320\n"
     ]
    }
   ],
   "source": [
    "m=int(input())\n",
    "eee.facto(m)"
   ]
  },
  {
   "cell_type": "markdown",
   "metadata": {},
   "source": [
    "```\n",
    "Regular Expressions:\n",
    "        -> Used for Validation purpose\n",
    "```"
   ]
  },
  {
   "cell_type": "code",
   "execution_count": null,
   "metadata": {},
   "outputs": [],
   "source": []
  }
 ],
 "metadata": {
  "kernelspec": {
   "display_name": "Python 3",
   "language": "python",
   "name": "python3"
  },
  "language_info": {
   "codemirror_mode": {
    "name": "ipython",
    "version": 3
   },
   "file_extension": ".py",
   "mimetype": "text/x-python",
   "name": "python",
   "nbconvert_exporter": "python",
   "pygments_lexer": "ipython3",
   "version": "3.7.3"
  }
 },
 "nbformat": 4,
 "nbformat_minor": 2
}
