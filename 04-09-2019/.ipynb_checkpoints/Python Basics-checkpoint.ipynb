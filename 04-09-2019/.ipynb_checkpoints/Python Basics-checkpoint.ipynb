{
 "cells": [
  {
   "cell_type": "markdown",
   "metadata": {},
   "source": [
    "# Python Basics:"
   ]
  },
  {
   "cell_type": "markdown",
   "metadata": {},
   "source": [
    "## Variables:\n",
    "\n",
    "    - To store the Data(value) \n",
    "    - Changes the values"
   ]
  },
  {
   "cell_type": "markdown",
   "metadata": {},
   "source": [
    "### Variable Implementation:\n",
    "\n",
    "#### Single variable value:"
   ]
  },
  {
   "cell_type": "markdown",
   "metadata": {},
   "source": [
    "##### Without Using Print Statement "
   ]
  },
  {
   "cell_type": "code",
   "execution_count": 41,
   "metadata": {},
   "outputs": [
    {
     "data": {
      "text/plain": [
       "34"
      ]
     },
     "execution_count": 41,
     "metadata": {},
     "output_type": "execute_result"
    }
   ],
   "source": [
    "a=34\n",
    "a"
   ]
  },
  {
   "cell_type": "code",
   "execution_count": 42,
   "metadata": {},
   "outputs": [
    {
     "data": {
      "text/plain": [
       "int"
      ]
     },
     "execution_count": 42,
     "metadata": {},
     "output_type": "execute_result"
    }
   ],
   "source": [
    "type(a)"
   ]
  },
  {
   "cell_type": "code",
   "execution_count": 43,
   "metadata": {},
   "outputs": [
    {
     "data": {
      "text/plain": [
       "'65'"
      ]
     },
     "execution_count": 43,
     "metadata": {},
     "output_type": "execute_result"
    }
   ],
   "source": [
    "a='65'\n",
    "a"
   ]
  },
  {
   "cell_type": "code",
   "execution_count": 44,
   "metadata": {
    "scrolled": true
   },
   "outputs": [
    {
     "data": {
      "text/plain": [
       "str"
      ]
     },
     "execution_count": 44,
     "metadata": {},
     "output_type": "execute_result"
    }
   ],
   "source": [
    "type(a)"
   ]
  },
  {
   "cell_type": "markdown",
   "metadata": {},
   "source": [
    "##### By Using Print Statement"
   ]
  },
  {
   "cell_type": "code",
   "execution_count": 45,
   "metadata": {
    "scrolled": true
   },
   "outputs": [
    {
     "name": "stdout",
     "output_type": "stream",
     "text": [
      "34\n",
      "<class 'int'>\n"
     ]
    }
   ],
   "source": [
    "a=34\n",
    "print(a)\n",
    "print(type(a))"
   ]
  },
  {
   "cell_type": "code",
   "execution_count": 46,
   "metadata": {},
   "outputs": [
    {
     "name": "stdout",
     "output_type": "stream",
     "text": [
      "65\n",
      "<class 'str'>\n"
     ]
    }
   ],
   "source": [
    "a='65'\n",
    "print(a)\n",
    "print(type(a))"
   ]
  },
  {
   "cell_type": "markdown",
   "metadata": {},
   "source": [
    "#### Multiple Variable Value assignments:"
   ]
  },
  {
   "cell_type": "code",
   "execution_count": 47,
   "metadata": {},
   "outputs": [
    {
     "name": "stdout",
     "output_type": "stream",
     "text": [
      "12\n",
      "<class 'int'>\n",
      "raju\n",
      "<class 'str'>\n",
      "34.0\n",
      "<class 'float'>\n"
     ]
    }
   ],
   "source": [
    "n,m,d=12,'raju',34.00\n",
    "print(n)\n",
    "print(type(n))\n",
    "print(m)\n",
    "print(type(m))\n",
    "print(d)\n",
    "print(type(d))"
   ]
  },
  {
   "cell_type": "code",
   "execution_count": 48,
   "metadata": {},
   "outputs": [
    {
     "name": "stdout",
     "output_type": "stream",
     "text": [
      "12\n",
      "12\n",
      "12\n",
      "12\n",
      "<class 'int'>\n"
     ]
    }
   ],
   "source": [
    "j=12\n",
    "k=l=o=j\n",
    "print(k)\n",
    "print(l)\n",
    "print(o)\n",
    "print(j)\n",
    "print(type(j))"
   ]
  },
  {
   "cell_type": "markdown",
   "metadata": {},
   "source": [
    "### Dynamic Way of Input a Value from User"
   ]
  },
  {
   "cell_type": "code",
   "execution_count": 69,
   "metadata": {},
   "outputs": [
    {
     "name": "stdout",
     "output_type": "stream",
     "text": [
      "Enter a number:45\n",
      "45\n",
      "<class 'str'>\n"
     ]
    }
   ],
   "source": [
    "n=input(\"Enter a number:\")\n",
    "print(n)\n",
    "print(type(n))"
   ]
  },
  {
   "cell_type": "markdown",
   "metadata": {},
   "source": [
    "#### Dynamic Way of integer Conversion:"
   ]
  },
  {
   "cell_type": "code",
   "execution_count": 50,
   "metadata": {},
   "outputs": [
    {
     "name": "stdout",
     "output_type": "stream",
     "text": [
      "Enter a number:78\n",
      "78\n",
      "<class 'int'>\n",
      "78\n",
      "<class 'str'>\n",
      "78.0\n",
      "<class 'float'>\n"
     ]
    }
   ],
   "source": [
    "n=int(input(\"Enter a number:\"))\n",
    "e=str(n)\n",
    "d=float(str(n))\n",
    "print(n)\n",
    "print(type(n))\n",
    "print(e)\n",
    "print(type(e))\n",
    "print(d)\n",
    "print(type(d))"
   ]
  },
  {
   "cell_type": "markdown",
   "metadata": {},
   "source": [
    "### Arithmetic Operations"
   ]
  },
  {
   "cell_type": "code",
   "execution_count": 52,
   "metadata": {},
   "outputs": [
    {
     "name": "stdout",
     "output_type": "stream",
     "text": [
      "Enter a First number: 2\n",
      "Enter a Second number: 3\n",
      "Sum of 2 and 3 is 5\n",
      "Diff of 2 and 3 is -1\n",
      "Mul of 2 and 3 is 6\n",
      "Div of 2 and 3 is 0.6666666666666666\n",
      "Mod of 2 and 3 is 2\n",
      "Floor Div of 2 and 3 is 0\n",
      "2 Power of 3 is 8\n"
     ]
    }
   ],
   "source": [
    "n=int(input(\"Enter a First number: \"))\n",
    "m=int(input(\"Enter a Second number: \"))\n",
    "print(\"Sum of {} and {} is {}\".format(n,m,n+m))\n",
    "print(\"Diff of {} and {} is {}\".format(n,m,n-m))\n",
    "print(\"Mul of {} and {} is {}\".format(n,m,n*m))\n",
    "print(\"Div of {} and {} is {}\".format(n,m,n/m))\n",
    "print(\"Mod of {} and {} is {}\".format(n,m,n%m))\n",
    "print(\"Floor Div of {} and {} is {}\".format(n,m,n//m))\n",
    "print(\"{} Power of {} is {}\".format(n,m,n**m))"
   ]
  },
  {
   "cell_type": "code",
   "execution_count": 66,
   "metadata": {},
   "outputs": [
    {
     "name": "stdout",
     "output_type": "stream",
     "text": [
      "234\n",
      "1099\n",
      "<class 'int'>\n",
      "586445007943931662045733114188802755121905003060079091575255114459543865213196693286380570537905194137650749605160073352686055807784616607579035957481396467614952086032615805523900118756445497572588081317739416872933999180977787633820464688170413860357345134153887743039870553682118236427686707078290181048551751714538350793473991100496402023502996100055351077834778564837086732244505043078917471982812028474376496497613783183194465960402254356403837564381498813126461475830063650080931312571006408096476018745610140370856591053176288131364961361279269864235688488647765121374172736075146397463289387539655256533050815547924176231060641953256988270075128136136531797014033970418263493104727329116937256199061327823097703496680135894121607900803823243441577084316398079260966752179593442123871886125166310195420713814119446960798021583552904594035803814176766462034106964084267223866815154133459881654127591432908715527787857729920572261468085994376313971323434652640290943931411082706481379286964910934670420370402898179793745411903968546631612262233775617678780021781214639345946762521618494856906606842211797575477867129238322179496405494261729367957257659832620613240975668446750888071376016323606684029191072591446036317568314951444315041149501069510553420017987834856996434059415370300930804713999391890153905500994379227808559397394910591384672515603574549193766366581662283207710434633348806607175550306178857734188045813167050609355727177117059296604297437853971383334184442932832312753057026737797190303625914233740475607084865511391750311481346411851696860022631183551616727561750965818327021212603184605641877872076008770795133254401984617058699089550562499432588016417883069683651182602327059345228267113571880297582986904855384593156226384186136555588248878052258308322092065492952309987083142807297014180874216373950605436276537825572023703867041253886096507640943637704738060815612281516156223587097083835933475307149973047940261952056972925072690449521682790573261969070706009026216252105671323157238787909022240919560618084564752775843092708456478514395814492850293183765217723452608856265514570975215617059869022282782399242547352450302183147361284232957135071731831632085499732652942101238656735504416705710412613262296010403555223147773506176830705880565832013145514047110843309330646627934173747522126739688816246286732851691512417296323431942658225211351396960239205683126033562008132744322148026385108832495811762324075545519142891002953352047093303370168830400494342626117174532019568455691135740920880309843541120554112782794222584365310070339950307050233321722692881244607217664\n",
      "2604\n",
      "<class 'int'>\n"
     ]
    }
   ],
   "source": [
    "p=int(input())\n",
    "q=int(input())\n",
    "k=p**q\n",
    "print(type(k))\n",
    "print(k)\n",
    "print(len(str(k)))\n",
    "print(type(k))"
   ]
  },
  {
   "cell_type": "markdown",
   "metadata": {},
   "source": [
    "# Conditional Statements(checking the condition is either True or False)"
   ]
  },
  {
   "cell_type": "markdown",
   "metadata": {},
   "source": [
    "```\n",
    "1. if -> Single case (Either True or False)\n",
    "  \n",
    "   Syntax:\n",
    "                if(optional):\n",
    "                    print(\"True Statement\")\n",
    "2. if else: -> 2 cases\n",
    "\n",
    "    Syntax:\n",
    "                if(optional):\n",
    "                    print(\"True Statement\")\n",
    "                else:\n",
    "                    print(\"False Statement\")\n",
    "   \n",
    "3. Nested if -> 3 or more Cases\n",
    "    \n",
    "    Syntax:\n",
    "                if(optional):\n",
    "                    if(optional):\n",
    "                        print(\"True Statement\")\n",
    "                    else:\n",
    "                        print(\"False Statement\")\n",
    "                else:\n",
    "                    print(\"False Statement\")\n",
    "    \n",
    "4. else-if Ladder -> 2 to n cases\n",
    "    \n",
    "    Syntax:\n",
    "                if(optional):\n",
    "                    print(\"Statement\")\n",
    "                elif(optional):\n",
    "                    print(\"Statement\")\n",
    "                elif(optional):\n",
    "                    print(\"Statement\")\n",
    "                else:\n",
    "                    print(\"False Statement\")\n",
    "   ```"
   ]
  },
  {
   "cell_type": "code",
   "execution_count": null,
   "metadata": {},
   "outputs": [],
   "source": []
  }
 ],
 "metadata": {
  "kernelspec": {
   "display_name": "Python 3",
   "language": "python",
   "name": "python3"
  },
  "language_info": {
   "codemirror_mode": {
    "name": "ipython",
    "version": 3
   },
   "file_extension": ".py",
   "mimetype": "text/x-python",
   "name": "python",
   "nbconvert_exporter": "python",
   "pygments_lexer": "ipython3",
   "version": "3.7.3"
  }
 },
 "nbformat": 4,
 "nbformat_minor": 2
}
