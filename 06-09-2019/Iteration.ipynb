{
 "cells": [
  {
   "cell_type": "markdown",
   "metadata": {},
   "source": [
    "# hackerrank problems"
   ]
  },
  {
   "cell_type": "markdown",
   "metadata": {},
   "source": [
    "## python if else problem"
   ]
  },
  {
   "cell_type": "code",
   "execution_count": 5,
   "metadata": {},
   "outputs": [
    {
     "name": "stdout",
     "output_type": "stream",
     "text": [
      "24\n",
      "not weird\n"
     ]
    }
   ],
   "source": [
    "n=int(input())\n",
    "if(n%2==1):\n",
    "    print(\"weird\")\n",
    "else:\n",
    "    if n>2 and n<5:\n",
    "        print(\"not weird\")\n",
    "    elif n>6 and n<20:\n",
    "        print(\"weird\")\n",
    "    else:\n",
    "        print(\"not weird\")\n"
   ]
  },
  {
   "cell_type": "code",
   "execution_count": 6,
   "metadata": {},
   "outputs": [
    {
     "name": "stdout",
     "output_type": "stream",
     "text": [
      "22\n",
      "Not Weird\n"
     ]
    }
   ],
   "source": [
    "n=int(input())\n",
    "if(n%2==1):\n",
    "    print(\"Weird\")\n",
    "else:\n",
    "    if((n>=2 and n<=5) or n>20):\n",
    "        print(\"Not Weird\")\n",
    "    else:\n",
    "        print(\"Weird\")"
   ]
  },
  {
   "cell_type": "markdown",
   "metadata": {},
   "source": [
    "## Sum,Difference and Product"
   ]
  },
  {
   "cell_type": "code",
   "execution_count": 7,
   "metadata": {},
   "outputs": [
    {
     "name": "stdout",
     "output_type": "stream",
     "text": [
      "3\n",
      "2\n",
      "5\n",
      "1\n",
      "6\n"
     ]
    }
   ],
   "source": [
    "a=int(input())\n",
    "b=int(input())\n",
    "print(\"{}\".format(a+b))\n",
    "print(\"{}\".format(a-b))\n",
    "print(\"{}\".format(a*b))"
   ]
  },
  {
   "cell_type": "markdown",
   "metadata": {},
   "source": [
    "## Division and Floor Division"
   ]
  },
  {
   "cell_type": "code",
   "execution_count": 9,
   "metadata": {},
   "outputs": [
    {
     "name": "stdout",
     "output_type": "stream",
     "text": [
      "4\n",
      "3\n",
      "1\n",
      "1.3333333333333333\n"
     ]
    }
   ],
   "source": [
    "a=int(input())\n",
    "b=int(input())\n",
    "print(\"{}\".format(a//b))\n",
    "print(\"{}\".format(a/b))"
   ]
  },
  {
   "cell_type": "markdown",
   "metadata": {},
   "source": [
    "## Iterators or Loops or Repitition or control statements"
   ]
  },
  {
   "cell_type": "markdown",
   "metadata": {},
   "source": [
    "```\n",
    "    - For - Particular range\n",
    "        Syntax:\n",
    "                for i in range(5,10,3):\n",
    "                    print(i)\n",
    "    \n",
    "    - While - range cant be defined\n",
    "        Syntax:\n",
    "                initalize -> i=0\n",
    "                while (condition):\n",
    "                    print(i)\n",
    "                    increment\n",
    "```"
   ]
  },
  {
   "cell_type": "code",
   "execution_count": 7,
   "metadata": {},
   "outputs": [
    {
     "name": "stdout",
     "output_type": "stream",
     "text": [
      "30\n",
      "2 4 6 8 10 12 14 16 18 20 22 24 26 28 30 "
     ]
    }
   ],
   "source": [
    "def nat(m):\n",
    "    for i in range(2,m+1,2):\n",
    "        print(i,end=\" \")\n",
    "    return\n",
    "\n",
    "n=int(input())\n",
    "nat(n)"
   ]
  },
  {
   "cell_type": "code",
   "execution_count": 8,
   "metadata": {},
   "outputs": [
    {
     "name": "stdout",
     "output_type": "stream",
     "text": [
      "2 4 6 8 10 12 14 16 18 20 22 24 26 28 30 32 34 36 38 40 42 44 46 48 50 "
     ]
    }
   ],
   "source": [
    "nat(50)"
   ]
  },
  {
   "cell_type": "code",
   "execution_count": 9,
   "metadata": {},
   "outputs": [
    {
     "name": "stdout",
     "output_type": "stream",
     "text": [
      "2 4 6 8 10 12 14 16 18 20 22 24 26 28 30 32 34 36 38 40 42 44 46 48 50 52 54 56 58 60 62 64 66 68 70 72 74 76 78 80 82 84 86 88 90 92 94 96 98 100 "
     ]
    }
   ],
   "source": [
    "nat(100)"
   ]
  },
  {
   "cell_type": "code",
   "execution_count": 25,
   "metadata": {},
   "outputs": [
    {
     "name": "stdout",
     "output_type": "stream",
     "text": [
      "ehedygasuydgjsdf\n",
      "Length of String ehedygasuydgjsdf is:16\n"
     ]
    }
   ],
   "source": [
    "def Strn(m):\n",
    "    j=0\n",
    "    for i in m:\n",
    "        '''print(i,end=\"\")'''\n",
    "        j=j+1\n",
    "    print(\"Length of String {} is:{}\".format(m,j))\n",
    "    return \n",
    "\n",
    "n=input()\n",
    "Strn(n)"
   ]
  },
  {
   "cell_type": "code",
   "execution_count": 14,
   "metadata": {},
   "outputs": [
    {
     "name": "stdout",
     "output_type": "stream",
     "text": [
      "ashjdgjhghsdjac\n",
      "15\n"
     ]
    }
   ],
   "source": [
    "s=input()\n",
    "print(len(s))"
   ]
  },
  {
   "cell_type": "markdown",
   "metadata": {},
   "source": [
    "```\n",
    "Roll Number Generation\n",
    "Input: 10\n",
    "Output:\n",
    "    17091A0201\n",
    "    |\n",
    "    |\n",
    "    17091A0210\n",
    "```"
   ]
  },
  {
   "cell_type": "code",
   "execution_count": 44,
   "metadata": {},
   "outputs": [
    {
     "name": "stdout",
     "output_type": "stream",
     "text": [
      "5\n",
      "17091A0201 18091A0206\n",
      "17091A0202 18091A0207\n",
      "17091A0203 18091A0208\n",
      "17091A0204 18091A0209\n",
      "17091A0205 18091A0210\n"
     ]
    }
   ],
   "source": [
    "def RollGen(k):\n",
    "    for i in range(1,k+1):\n",
    "        '''print(\"17091A02%02d\"%i)\n",
    "        if i<=9:\n",
    "            print(\"17091A020{}\".format(i))\n",
    "        else:\n",
    "            print(\"17091A02{}\".format(i))'''\n",
    "        print(\"17091A02%02d 18091A02%02d\"%(i,i+k))\n",
    "    return \n",
    "\n",
    "n=int(input())\n",
    "RollGen(n)"
   ]
  },
  {
   "cell_type": "code",
   "execution_count": 52,
   "metadata": {},
   "outputs": [
    {
     "name": "stdout",
     "output_type": "stream",
     "text": [
      "16235162367891263781269385129267357162359162359861253965167235761523675126351273681225839172936712371823761723\n",
      "Digit count for a Number 16235162367891263781269385129267357162359162359861253965167235761523675126351273681225839172936712371823761723 is: 110\n"
     ]
    }
   ],
   "source": [
    "def noofdigits(m):\n",
    "    count=0\n",
    "    while m!=0:\n",
    "        m=m//10\n",
    "        count=count+1\n",
    "    return count\n",
    "\n",
    "n=int(input())\n",
    "print(\"Digit count for a Number {} is: {}\".\n",
    "      format(n,noofdigits(n)))"
   ]
  },
  {
   "cell_type": "code",
   "execution_count": 58,
   "metadata": {},
   "outputs": [
    {
     "name": "stdout",
     "output_type": "stream",
     "text": [
      "11445\n",
      "Given number is 11445 and its reverse is: 54411\n"
     ]
    }
   ],
   "source": [
    "def reverse(m):\n",
    "    rev=0\n",
    "    while m!=0:\n",
    "        rev=rev*10+m%10\n",
    "        m=m//10\n",
    "    return rev\n",
    "\n",
    "n=int(input())\n",
    "print(\"Given number is {} and its reverse is: {}\".\n",
    "      format(n,reverse(n)))"
   ]
  },
  {
   "cell_type": "markdown",
   "metadata": {},
   "source": [
    "```\n",
    "To Print the Odd and even count in a number\n",
    "```"
   ]
  },
  {
   "cell_type": "code",
   "execution_count": 7,
   "metadata": {},
   "outputs": [
    {
     "name": "stdout",
     "output_type": "stream",
     "text": [
      "1234\n",
      "Given number 1234 its odd count is: 2 and even count is: 2\n",
      "Sum of even 6 sum of odd 4\n"
     ]
    }
   ],
   "source": [
    "def rev(m):\n",
    "    evn=odd=sev=sod=0\n",
    "    p=m\n",
    "    while m!=0:\n",
    "        k=m%10\n",
    "        if k%2==0:\n",
    "            evn+=1\n",
    "            sev+=k\n",
    "        else:\n",
    "            odd+=1\n",
    "            sod+=k\n",
    "        m=m//10\n",
    "    print(\"Given number {} its odd count is: {} and \" \n",
    "          \"even count is: {}\\nSum of even {} sum of odd {}\"\n",
    "          .format(p,odd,evn,sev,sod))\n",
    "    return \n",
    "\n",
    "n=int(input())\n",
    "rev(n)"
   ]
  },
  {
   "cell_type": "code",
   "execution_count": null,
   "metadata": {},
   "outputs": [],
   "source": []
  }
 ],
 "metadata": {
  "kernelspec": {
   "display_name": "Python 3",
   "language": "python",
   "name": "python3"
  },
  "language_info": {
   "codemirror_mode": {
    "name": "ipython",
    "version": 3
   },
   "file_extension": ".py",
   "mimetype": "text/x-python",
   "name": "python",
   "nbconvert_exporter": "python",
   "pygments_lexer": "ipython3",
   "version": "3.7.3"
  }
 },
 "nbformat": 4,
 "nbformat_minor": 2
}
