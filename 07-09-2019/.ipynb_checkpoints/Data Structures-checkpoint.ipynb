{
 "cells": [
  {
   "cell_type": "markdown",
   "metadata": {},
   "source": [
    "```\n",
    "Data Structures:\n",
    "\n",
    "    1. List -> [] --> Ordered Data\n",
    "                    (Stores different data type elements) \n",
    "                    Immutable data type(changeable)\n",
    "    2. Tuple -> () --> Oredered Data\n",
    "                    (Stores different data type elements)\n",
    "                    Mutable data type(unchangeable)\n",
    "    3. Set -> {} --> Unordered Data\n",
    "                    (Stores different data type elements)\n",
    "                    Duplicate elements are to be skipped\n",
    "                    Immutable data type(changeable)\n",
    "    4. Dictionary -> {} --> Unordered Data \n",
    "                    (Stores different data type elements)\n",
    "                    (Key: value) -> Immutable data\n",
    "                                        type(changeable)\n",
    "```"
   ]
  },
  {
   "cell_type": "markdown",
   "metadata": {},
   "source": [
    "### List - []"
   ]
  },
  {
   "cell_type": "code",
   "execution_count": 1,
   "metadata": {},
   "outputs": [
    {
     "data": {
      "text/plain": [
       "[1, 2, '3', 'raju', 5.0]"
      ]
     },
     "execution_count": 1,
     "metadata": {},
     "output_type": "execute_result"
    }
   ],
   "source": [
    "l=[1,2,'3','raju',5.0]\n",
    "l"
   ]
  },
  {
   "cell_type": "code",
   "execution_count": 5,
   "metadata": {},
   "outputs": [
    {
     "name": "stdout",
     "output_type": "stream",
     "text": [
      "1 3 4 5 6 w\n",
      "['1', '3', '4', '5', '6', 'w']\n",
      "<class 'list'>\n"
     ]
    }
   ],
   "source": [
    "s=input()\n",
    "s=s.split()\n",
    "print(s)\n",
    "print(type(s))"
   ]
  },
  {
   "cell_type": "code",
   "execution_count": 6,
   "metadata": {},
   "outputs": [
    {
     "name": "stdout",
     "output_type": "stream",
     "text": [
      "['__add__', '__class__', '__contains__', '__delattr__', '__delitem__', '__dir__', '__doc__', '__eq__', '__format__', '__ge__', '__getattribute__', '__getitem__', '__gt__', '__hash__', '__iadd__', '__imul__', '__init__', '__init_subclass__', '__iter__', '__le__', '__len__', '__lt__', '__mul__', '__ne__', '__new__', '__reduce__', '__reduce_ex__', '__repr__', '__reversed__', '__rmul__', '__setattr__', '__setitem__', '__sizeof__', '__str__', '__subclasshook__', 'append', 'clear', 'copy', 'count', 'extend', 'index', 'insert', 'pop', 'remove', 'reverse', 'sort']\n"
     ]
    }
   ],
   "source": [
    "print(dir(list()))"
   ]
  },
  {
   "cell_type": "code",
   "execution_count": 7,
   "metadata": {},
   "outputs": [
    {
     "name": "stdout",
     "output_type": "stream",
     "text": [
      "4\n",
      "3\n",
      "6\n",
      "7\n",
      "89\n",
      "[3, 6, 7, 89]\n"
     ]
    }
   ],
   "source": [
    "s=int(input())\n",
    "l=[]\n",
    "for i in range(1,s+1):\n",
    "    k=int(input())\n",
    "    l.append(k)\n",
    "print(l)"
   ]
  },
  {
   "cell_type": "code",
   "execution_count": 22,
   "metadata": {},
   "outputs": [
    {
     "name": "stdout",
     "output_type": "stream",
     "text": [
      "6\n",
      "[3, 5, 7, 9, [2, 4, 6, 8, 8, 8, 8, 8, 8, 7]]\n"
     ]
    }
   ],
   "source": [
    "l=[2,4,6,8,8,8,8,8,8,7]\n",
    "print(l.count(8))\n",
    "l2=[3,5,7,9]\n",
    "l2.append(l)\n",
    "print(l2)\n"
   ]
  },
  {
   "cell_type": "code",
   "execution_count": 31,
   "metadata": {},
   "outputs": [
    {
     "name": "stdout",
     "output_type": "stream",
     "text": [
      "28346274\n",
      "Even list: [4, 2, 6, 4, 8, 2] Count of even numbers: 6\n",
      "Odd list: [7, 3] Count of odd numbers: 2\n",
      "Number in list format is: [4, 2, 6, 4, 8, 2, 7, 3]\n",
      "None\n"
     ]
    }
   ],
   "source": [
    "def lap(m):\n",
    "    evl=[]\n",
    "    odd=[]\n",
    "    num=[]\n",
    "    while m!=0:\n",
    "        k=m%10\n",
    "        if k%2==0:\n",
    "            evl.append(k)\n",
    "        else:\n",
    "            odd.append(k)\n",
    "        m=m//10\n",
    "    num.extend(evl)\n",
    "    num.extend(odd)\n",
    "    print(\"Even list: {} Count of even numbers: {}\"\n",
    "          \"\\nOdd list: {} Count of odd numbers: {}\"\n",
    "          .format(evl,len(evl),odd,len(odd)))\n",
    "    print(\"Number in list format is: {}\".format(num))\n",
    "    return \n",
    "\n",
    "n=int(input())\n",
    "lap(n)"
   ]
  },
  {
   "cell_type": "code",
   "execution_count": 42,
   "metadata": {},
   "outputs": [
    {
     "name": "stdout",
     "output_type": "stream",
     "text": [
      "None\n",
      "None\n",
      "None\n",
      "[5, 3, 3, 3, 3, 3, 3, 2, 1, 0]\n",
      "(5, 3, 3, 3, 3, 3, 3, 2, 1, 0)\n",
      "{0, 1, 2, 3, 5}\n"
     ]
    }
   ],
   "source": [
    "l=[1,2,3,3,5]\n",
    "l2=[3,3,3,3,0]\n",
    "print(l2.extend(l))\n",
    "print(l2.sort())\n",
    "print(l2.reverse())\n",
    "print(l2)\n",
    "print(tuple(l2))\n",
    "print(set(l2))"
   ]
  },
  {
   "cell_type": "code",
   "execution_count": 56,
   "metadata": {},
   "outputs": [
    {
     "name": "stdout",
     "output_type": "stream",
     "text": [
      "[0, 4, 57, 85, 99, 234]\n",
      "[0, 4, 57, 85, 99, 234, 500]\n",
      "[500, 234, 99, 85, 57, 4, 0]\n"
     ]
    },
    {
     "data": {
      "text/plain": [
       "4"
      ]
     },
     "execution_count": 56,
     "metadata": {},
     "output_type": "execute_result"
    }
   ],
   "source": [
    "l4=[0,4,234,57,85,99]\n",
    "l4.sort()\n",
    "print(l4)\n",
    "l4.insert(7,500)\n",
    "print(l4)\n",
    "l4.reverse()\n",
    "print(l4)\n",
    "l4.index(57)"
   ]
  },
  {
   "cell_type": "code",
   "execution_count": 57,
   "metadata": {},
   "outputs": [
    {
     "data": {
      "text/plain": [
       "[3, 5, 6, 8]"
      ]
     },
     "execution_count": 57,
     "metadata": {},
     "output_type": "execute_result"
    }
   ],
   "source": [
    "l=[3,5,6,8,10]\n",
    "l.pop()\n",
    "l"
   ]
  },
  {
   "cell_type": "code",
   "execution_count": 62,
   "metadata": {},
   "outputs": [
    {
     "name": "stdout",
     "output_type": "stream",
     "text": [
      "[]\n"
     ]
    }
   ],
   "source": [
    "l=[23,5,4,67,100]\n",
    "l.remove(4)\n",
    "l.clear()\n",
    "print(l)"
   ]
  },
  {
   "cell_type": "code",
   "execution_count": 66,
   "metadata": {},
   "outputs": [
    {
     "name": "stdout",
     "output_type": "stream",
     "text": [
      "1 3 4 5\n",
      "[1, 3, 4, 5]\n",
      "[1, 3, 4, 5]\n",
      "13\n"
     ]
    }
   ],
   "source": [
    "n=input()\n",
    "n=n.split()\n",
    "l=[]\n",
    "sum=0\n",
    "for i in n:\n",
    "    l.append(int(i))\n",
    "print(l)\n",
    "for i in range(len(l)):\n",
    "    sum+=l[i]\n",
    "print(l)\n",
    "print(sum)"
   ]
  },
  {
   "cell_type": "code",
   "execution_count": 75,
   "metadata": {},
   "outputs": [
    {
     "name": "stdout",
     "output_type": "stream",
     "text": [
      "2 4 5 6 6 10 "
     ]
    }
   ],
   "source": [
    "l=[2,4,5,6,6,10]\n",
    "'''l[:]\n",
    "l[::-1]\n",
    "l[-1]\n",
    "l[1:]\n",
    "l[start:end:skip]'''\n",
    "for i in l:\n",
    "    print(i,end=\" \")"
   ]
  },
  {
   "cell_type": "code",
   "execution_count": 81,
   "metadata": {},
   "outputs": [
    {
     "data": {
      "text/plain": [
       "[2, 4, 5]"
      ]
     },
     "execution_count": 81,
     "metadata": {},
     "output_type": "execute_result"
    }
   ],
   "source": [
    "l[:len(l)//2]"
   ]
  },
  {
   "cell_type": "markdown",
   "metadata": {},
   "source": [
    "### Tuple ()"
   ]
  },
  {
   "cell_type": "code",
   "execution_count": 82,
   "metadata": {},
   "outputs": [
    {
     "name": "stdout",
     "output_type": "stream",
     "text": [
      "['__add__', '__class__', '__contains__', '__delattr__', '__dir__', '__doc__', '__eq__', '__format__', '__ge__', '__getattribute__', '__getitem__', '__getnewargs__', '__gt__', '__hash__', '__init__', '__init_subclass__', '__iter__', '__le__', '__len__', '__lt__', '__mul__', '__ne__', '__new__', '__reduce__', '__reduce_ex__', '__repr__', '__rmul__', '__setattr__', '__sizeof__', '__str__', '__subclasshook__', 'count', 'index']\n"
     ]
    }
   ],
   "source": [
    "print(dir(tuple()))"
   ]
  },
  {
   "cell_type": "code",
   "execution_count": 89,
   "metadata": {},
   "outputs": [
    {
     "name": "stdout",
     "output_type": "stream",
     "text": [
      "(1, 3, 'python', 4.6, 1, 1, 1, 1, 1)\n",
      "<class 'tuple'>\n",
      "6\n",
      "0\n"
     ]
    }
   ],
   "source": [
    "t=(1,3,'python',4.6,1,1,1,1,1)\n",
    "print(t)\n",
    "print(type(t))\n",
    "print(t.count(1))\n",
    "print(t.index(1))"
   ]
  },
  {
   "cell_type": "code",
   "execution_count": 97,
   "metadata": {},
   "outputs": [
    {
     "name": "stdout",
     "output_type": "stream",
     "text": [
      "(1, 3, 'python', 4.6, 1, 1, 1, 1, 1)\n",
      "(1, 3, 'python')\n",
      "(4.6, 1, 1, 1, 1, 1)\n",
      "(3, 'python', 4.6, 1, 1, 1, 1)\n"
     ]
    }
   ],
   "source": [
    "print(t)\n",
    "print(t[:3])\n",
    "print(t[3:])\n",
    "print(t[1:-1])"
   ]
  },
  {
   "cell_type": "code",
   "execution_count": 110,
   "metadata": {},
   "outputs": [
    {
     "name": "stdout",
     "output_type": "stream",
     "text": [
      "['p', 'y', 't', 'h', 'o', 'n']\n",
      "['p', 'y', 't', 'h', 't', 'o', 'n']\n",
      "<class 'list'>\n"
     ]
    }
   ],
   "source": [
    "t=('p','y','t','h','o','n')\n",
    "s=\" \".join(t)\n",
    "s=s.split(\" \")\n",
    "print(s)\n",
    "s.insert(4,'t')\n",
    "print(s)\n",
    "print(type(s))"
   ]
  },
  {
   "cell_type": "markdown",
   "metadata": {},
   "source": [
    "### Set - {}"
   ]
  },
  {
   "cell_type": "code",
   "execution_count": 113,
   "metadata": {},
   "outputs": [
    {
     "name": "stdout",
     "output_type": "stream",
     "text": [
      "{1, 2, 'sdsddf', 5, 4, 9.0, 'python'}\n"
     ]
    }
   ],
   "source": [
    "s={'sdsddf',1,4,5,2,'python',9.0}\n",
    "print(s)"
   ]
  },
  {
   "cell_type": "code",
   "execution_count": 114,
   "metadata": {},
   "outputs": [
    {
     "name": "stdout",
     "output_type": "stream",
     "text": [
      "['__and__', '__class__', '__contains__', '__delattr__', '__dir__', '__doc__', '__eq__', '__format__', '__ge__', '__getattribute__', '__gt__', '__hash__', '__iand__', '__init__', '__init_subclass__', '__ior__', '__isub__', '__iter__', '__ixor__', '__le__', '__len__', '__lt__', '__ne__', '__new__', '__or__', '__rand__', '__reduce__', '__reduce_ex__', '__repr__', '__ror__', '__rsub__', '__rxor__', '__setattr__', '__sizeof__', '__str__', '__sub__', '__subclasshook__', '__xor__', 'add', 'clear', 'copy', 'difference', 'difference_update', 'discard', 'intersection', 'intersection_update', 'isdisjoint', 'issubset', 'issuperset', 'pop', 'remove', 'symmetric_difference', 'symmetric_difference_update', 'union', 'update']\n"
     ]
    }
   ],
   "source": [
    "print(dir(set()))"
   ]
  },
  {
   "cell_type": "code",
   "execution_count": 119,
   "metadata": {},
   "outputs": [
    {
     "name": "stdout",
     "output_type": "stream",
     "text": [
      "{1, 2, 3}\n",
      "<class 'set'>\n",
      "[1, 2, 3]\n",
      "<class 'list'>\n"
     ]
    }
   ],
   "source": [
    "l=[2,3,1,1,1,1,1,3]\n",
    "p=set(l)\n",
    "print(p)\n",
    "print(type(p))\n",
    "k=list(p)\n",
    "print(k)\n",
    "print(type(k))"
   ]
  },
  {
   "cell_type": "code",
   "execution_count": 125,
   "metadata": {},
   "outputs": [
    {
     "data": {
      "text/plain": [
       "{4, 45, 6, 7, 89, 'Python', 'p', 't'}"
      ]
     },
     "execution_count": 125,
     "metadata": {},
     "output_type": "execute_result"
    }
   ],
   "source": [
    "s={2,4,'p','t',45,6,7,89}\n",
    "s.add('Python')\n",
    "s.pop()\n",
    "s"
   ]
  },
  {
   "cell_type": "code",
   "execution_count": 132,
   "metadata": {},
   "outputs": [
    {
     "name": "stdout",
     "output_type": "stream",
     "text": [
      "{1, 2, 4, 5, 6, 7, 8}\n"
     ]
    }
   ],
   "source": [
    "d={1,2,4,5,6,6}\n",
    "g={4,5,6,7,8}\n",
    "k=g.union(d)\n",
    "print(k)"
   ]
  },
  {
   "cell_type": "code",
   "execution_count": 133,
   "metadata": {},
   "outputs": [
    {
     "name": "stdout",
     "output_type": "stream",
     "text": [
      "{4, 5, 6}\n"
     ]
    }
   ],
   "source": [
    "h=g.intersection(d)\n",
    "print(h)"
   ]
  },
  {
   "cell_type": "markdown",
   "metadata": {},
   "source": [
    "### Dictionaries { }\n",
    "    "
   ]
  },
  {
   "cell_type": "code",
   "execution_count": 142,
   "metadata": {},
   "outputs": [
    {
     "name": "stdout",
     "output_type": "stream",
     "text": [
      "  1 4\n",
      "  2 1\n",
      "  3 1\n",
      "  4 1\n",
      "  5 1\n"
     ]
    }
   ],
   "source": [
    "li=[1,1,1,2,3,1,4,5]\n",
    "ul=[]\n",
    "for i in li:\n",
    "    if i not in ul:\n",
    "        ul.append(i)\n",
    "for i in ul:\n",
    "   print(\" \",i,li.count(i))"
   ]
  },
  {
   "cell_type": "code",
   "execution_count": 143,
   "metadata": {},
   "outputs": [
    {
     "name": "stdout",
     "output_type": "stream",
     "text": [
      "Enter size of List : 5\n",
      "1\n",
      "1\n",
      "1\n",
      "1\n",
      "1\n",
      "[1, 1, 1, 1, 1]\n"
     ]
    }
   ],
   "source": [
    "size=int(input(\"Enter size of List : \"))\n",
    "li=[]\n",
    "for i in range(size):\n",
    "    li.append(int(input()))\n",
    "print(li)"
   ]
  },
  {
   "cell_type": "code",
   "execution_count": 150,
   "metadata": {},
   "outputs": [
    {
     "name": "stdout",
     "output_type": "stream",
     "text": [
      "5\n",
      "1\n",
      "1\n",
      "1\n",
      "2\n",
      "2\n",
      "[1, 1, 1, 2, 2]\n",
      "1 3\n",
      "2 2\n"
     ]
    }
   ],
   "source": [
    "n=int(input())\n",
    "l=[]\n",
    "for i in range(1,n+1):\n",
    "    s=int(input())\n",
    "    l.append(s)\n",
    "print(l)\n",
    "for i in set(l):\n",
    "    print(i,l.count(i))"
   ]
  },
  {
   "cell_type": "code",
   "execution_count": 4,
   "metadata": {},
   "outputs": [
    {
     "name": "stdout",
     "output_type": "stream",
     "text": [
      "1 2 1 2 34 6\n",
      "['1', '2', '1', '2', '34', '6']\n",
      "[1, 2, 1, 2, 34, 6]\n",
      "1 2\n",
      "2 2\n",
      "34 1\n",
      "6 1\n"
     ]
    }
   ],
   "source": [
    "n=input()\n",
    "n=n.split()\n",
    "print(n)\n",
    "l=[]\n",
    "for i in n:\n",
    "    l.append(int(i))\n",
    "print(l)\n",
    "for i in set(l):\n",
    "    print(i,l.count(i))"
   ]
  },
  {
   "cell_type": "code",
   "execution_count": 5,
   "metadata": {},
   "outputs": [
    {
     "name": "stdout",
     "output_type": "stream",
     "text": [
      "['__class__', '__contains__', '__delattr__', '__delitem__', '__dir__', '__doc__', '__eq__', '__format__', '__ge__', '__getattribute__', '__getitem__', '__gt__', '__hash__', '__init__', '__init_subclass__', '__iter__', '__le__', '__len__', '__lt__', '__ne__', '__new__', '__reduce__', '__reduce_ex__', '__repr__', '__setattr__', '__setitem__', '__sizeof__', '__str__', '__subclasshook__', 'clear', 'copy', 'fromkeys', 'get', 'items', 'keys', 'pop', 'popitem', 'setdefault', 'update', 'values']\n"
     ]
    }
   ],
   "source": [
    "print(dir(dict))"
   ]
  },
  {
   "cell_type": "code",
   "execution_count": 15,
   "metadata": {},
   "outputs": [
    {
     "name": "stdout",
     "output_type": "stream",
     "text": [
      "{'Add': 'Ogl', 'mobil': 7075651467, 1: 356}\n"
     ]
    }
   ],
   "source": [
    "s={}\n",
    "s[\"name\"]=\"Ranga\"\n",
    "s[\"Add\"]=\"Ogl\"\n",
    "s[\"mobil\"]=7075651467\n",
    "s[1]=123\n",
    "s[1]=356\n",
    "s.pop(\"name\")\n",
    "print(s)\n"
   ]
  },
  {
   "cell_type": "code",
   "execution_count": 20,
   "metadata": {},
   "outputs": [
    {
     "name": "stdout",
     "output_type": "stream",
     "text": [
      "1 2 4 2 6 7 34 8 6\n",
      "{1: 1, 2: 2, 34: 1, 4: 1, 6: 2, 7: 1, 8: 1}\n"
     ]
    }
   ],
   "source": [
    "s=input().split()\n",
    "#print(s)\n",
    "li=[]\n",
    "d={}\n",
    "for i in s:\n",
    "    k=int(i)\n",
    "    li.append(k)\n",
    "for i in set(li):\n",
    "    d[i]=li.count(i)\n",
    "print(d)\n",
    "#print(li)"
   ]
  },
  {
   "cell_type": "code",
   "execution_count": null,
   "metadata": {},
   "outputs": [],
   "source": []
  }
 ],
 "metadata": {
  "kernelspec": {
   "display_name": "Python 3",
   "language": "python",
   "name": "python3"
  },
  "language_info": {
   "codemirror_mode": {
    "name": "ipython",
    "version": 3
   },
   "file_extension": ".py",
   "mimetype": "text/x-python",
   "name": "python",
   "nbconvert_exporter": "python",
   "pygments_lexer": "ipython3",
   "version": "3.7.3"
  }
 },
 "nbformat": 4,
 "nbformat_minor": 2
}
